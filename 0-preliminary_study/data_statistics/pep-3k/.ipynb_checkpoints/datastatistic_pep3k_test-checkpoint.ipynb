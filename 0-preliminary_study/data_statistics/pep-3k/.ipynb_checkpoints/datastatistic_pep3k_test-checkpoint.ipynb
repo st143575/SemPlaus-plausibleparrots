{
 "cells": [
  {
   "cell_type": "markdown",
   "id": "93e1f5bc",
   "metadata": {},
   "source": [
    "# Study the data statistics of the pep-3k dataset (test).\n",
    "29.11.2023"
   ]
  },
  {
   "cell_type": "code",
   "execution_count": 1,
   "id": "08f2a3f8",
   "metadata": {},
   "outputs": [],
   "source": [
    "import os\n",
    "import json\n",
    "import numpy as np\n",
    "import pandas as pd\n",
    "import matplotlib.pyplot as plt\n",
    "from collections import Counter"
   ]
  },
  {
   "cell_type": "code",
   "execution_count": 2,
   "id": "958f374b",
   "metadata": {},
   "outputs": [],
   "source": [
    "# Please replace the following paths with your own paths if you are using different ones.\n",
    "PROJECT_PATH = \"/mount/studenten/arbeitsdaten-studenten1/semantic-plausibility/plausible-parrots/\"\n",
    "DATA_PATH = \"/mount/studenten/semantic-plausibility/datasets/pep-3k/train-dev-test-split/\"\n",
    "CACHE_PATH = PROJECT_PATH + \"cache/\""
   ]
  },
  {
   "cell_type": "markdown",
   "id": "b1e94b83",
   "metadata": {},
   "source": [
    "## Test"
   ]
  },
  {
   "cell_type": "code",
   "execution_count": 3,
   "id": "068a59f8",
   "metadata": {},
   "outputs": [
    {
     "data": {
      "text/html": [
       "<div>\n",
       "<style scoped>\n",
       "    .dataframe tbody tr th:only-of-type {\n",
       "        vertical-align: middle;\n",
       "    }\n",
       "\n",
       "    .dataframe tbody tr th {\n",
       "        vertical-align: top;\n",
       "    }\n",
       "\n",
       "    .dataframe thead th {\n",
       "        text-align: right;\n",
       "    }\n",
       "</style>\n",
       "<table border=\"1\" class=\"dataframe\">\n",
       "  <thead>\n",
       "    <tr style=\"text-align: right;\">\n",
       "      <th></th>\n",
       "      <th>label</th>\n",
       "      <th>text</th>\n",
       "    </tr>\n",
       "  </thead>\n",
       "  <tbody>\n",
       "    <tr>\n",
       "      <th>0</th>\n",
       "      <td>1</td>\n",
       "      <td>worm enter cave</td>\n",
       "    </tr>\n",
       "    <tr>\n",
       "      <th>1</th>\n",
       "      <td>1</td>\n",
       "      <td>elephant toss cat</td>\n",
       "    </tr>\n",
       "    <tr>\n",
       "      <th>2</th>\n",
       "      <td>1</td>\n",
       "      <td>beak tap purse</td>\n",
       "    </tr>\n",
       "    <tr>\n",
       "      <th>3</th>\n",
       "      <td>1</td>\n",
       "      <td>wolf push cup</td>\n",
       "    </tr>\n",
       "    <tr>\n",
       "      <th>4</th>\n",
       "      <td>0</td>\n",
       "      <td>pen etch oil</td>\n",
       "    </tr>\n",
       "    <tr>\n",
       "      <th>...</th>\n",
       "      <td>...</td>\n",
       "      <td>...</td>\n",
       "    </tr>\n",
       "    <tr>\n",
       "      <th>302</th>\n",
       "      <td>0</td>\n",
       "      <td>air peel bush</td>\n",
       "    </tr>\n",
       "    <tr>\n",
       "      <th>303</th>\n",
       "      <td>0</td>\n",
       "      <td>man pull ant</td>\n",
       "    </tr>\n",
       "    <tr>\n",
       "      <th>304</th>\n",
       "      <td>1</td>\n",
       "      <td>hand fasten crab</td>\n",
       "    </tr>\n",
       "    <tr>\n",
       "      <th>305</th>\n",
       "      <td>1</td>\n",
       "      <td>student beat man</td>\n",
       "    </tr>\n",
       "    <tr>\n",
       "      <th>306</th>\n",
       "      <td>0</td>\n",
       "      <td>cup crop pebbles</td>\n",
       "    </tr>\n",
       "  </tbody>\n",
       "</table>\n",
       "<p>307 rows × 2 columns</p>\n",
       "</div>"
      ],
      "text/plain": [
       "     label               text\n",
       "0        1    worm enter cave\n",
       "1        1  elephant toss cat\n",
       "2        1     beak tap purse\n",
       "3        1      wolf push cup\n",
       "4        0       pen etch oil\n",
       "..     ...                ...\n",
       "302      0      air peel bush\n",
       "303      0       man pull ant\n",
       "304      1   hand fasten crab\n",
       "305      1   student beat man\n",
       "306      0   cup crop pebbles\n",
       "\n",
       "[307 rows x 2 columns]"
      ]
     },
     "execution_count": 3,
     "metadata": {},
     "output_type": "execute_result"
    }
   ],
   "source": [
    "test_set_df = pd.read_csv(DATA_PATH + \"test.csv\", sep=',')\n",
    "test_set_df"
   ]
  },
  {
   "cell_type": "markdown",
   "id": "11683c14",
   "metadata": {},
   "source": [
    "### Check texts"
   ]
  },
  {
   "cell_type": "code",
   "execution_count": 4,
   "id": "0da137d0",
   "metadata": {},
   "outputs": [
    {
     "name": "stdout",
     "output_type": "stream",
     "text": [
      "307\n",
      "307\n"
     ]
    }
   ],
   "source": [
    "texts = test_set_df['text'].tolist()\n",
    "print(len(texts))\n",
    "texts_set = list(set(texts))\n",
    "print(len(texts_set))"
   ]
  },
  {
   "cell_type": "code",
   "execution_count": 5,
   "id": "06ec6819",
   "metadata": {},
   "outputs": [
    {
     "name": "stdout",
     "output_type": "stream",
     "text": [
      "921\n",
      "315\n"
     ]
    }
   ],
   "source": [
    "# Get vocabulary from texts.\n",
    "\n",
    "from itertools import chain\n",
    "words = [text.split(\" \") for text in texts]\n",
    "words = list(chain(*words))\n",
    "print(len(words))\n",
    "\n",
    "vocab = list(set(words))\n",
    "print(len(vocab))"
   ]
  },
  {
   "cell_type": "markdown",
   "id": "cb0be379",
   "metadata": {},
   "source": [
    "### Check labels"
   ]
  },
  {
   "cell_type": "code",
   "execution_count": 6,
   "id": "cb98b0cd",
   "metadata": {},
   "outputs": [
    {
     "name": "stdout",
     "output_type": "stream",
     "text": [
      "307\n",
      "2\n"
     ]
    },
    {
     "data": {
      "text/plain": [
       "[0, 1]"
      ]
     },
     "execution_count": 6,
     "metadata": {},
     "output_type": "execute_result"
    }
   ],
   "source": [
    "labels = test_set_df['label'].tolist()\n",
    "print(len(labels))\n",
    "labels_set = list(set(labels))\n",
    "print(len(labels_set))\n",
    "labels_set"
   ]
  },
  {
   "cell_type": "code",
   "execution_count": 7,
   "id": "fc60fe92",
   "metadata": {},
   "outputs": [
    {
     "data": {
      "text/plain": [
       "{0: 154, 1: 153}"
      ]
     },
     "execution_count": 7,
     "metadata": {},
     "output_type": "execute_result"
    }
   ],
   "source": [
    "label_counter = dict(Counter(labels))\n",
    "\n",
    "# Sort the data in descending order.\n",
    "label_counter = {k: v for k, v in sorted(label_counter.items(), key=lambda item: item[1], reverse=True)}\n",
    "label_counter"
   ]
  },
  {
   "cell_type": "code",
   "execution_count": 8,
   "id": "7a01f511",
   "metadata": {},
   "outputs": [
    {
     "data": {
      "image/png": "[encoded data removed]",
      "text/plain": [
       "<Figure size 640x480 with 1 Axes>"
      ]
     },
     "metadata": {},
     "output_type": "display_data"
    }
   ],
   "source": [
    "# Create a bar diagram\n",
    "plt.bar(label_counter.keys(), label_counter.values())\n",
    "\n",
    "# Add title and labels\n",
    "plt.title('Label distribution')\n",
    "plt.xlabel('label')\n",
    "plt.ylabel('number of instances')\n",
    "\n",
    "# Show the value on top of each bar\n",
    "for key, value in label_counter.items():\n",
    "    plt.text(key, value, f'{value}', ha='center', va='bottom')\n",
    "\n",
    "# Display the plot\n",
    "plt.show()"
   ]
  },
  {
   "cell_type": "code",
   "execution_count": null,
   "id": "b323af9c",
   "metadata": {},
   "outputs": [],
   "source": []
  }
 ],
 "metadata": {
  "kernelspec": {
   "display_name": "Python 3 (ipykernel)",
   "language": "python",
   "name": "python3"
  },
  "language_info": {
   "codemirror_mode": {
    "name": "ipython",
    "version": 3
   },
   "file_extension": ".py",
   "mimetype": "text/x-python",
   "name": "python",
   "nbconvert_exporter": "python",
   "pygments_lexer": "ipython3",
   "version": "3.11.5"
  }
 },
 "nbformat": 4,
 "nbformat_minor": 5
}
