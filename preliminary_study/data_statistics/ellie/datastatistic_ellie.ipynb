{
 "cells": [
  {
   "cell_type": "markdown",
   "id": "ff614cc2",
   "metadata": {},
   "source": [
    "# Study the data statistics of the ellie dataset.\n",
    "29.11.2023"
   ]
  },
  {
   "cell_type": "code",
   "execution_count": 1,
   "id": "66e70bc4",
   "metadata": {},
   "outputs": [],
   "source": [
    "import os\n",
    "import json\n",
    "import numpy as np\n",
    "import pandas as pd\n",
    "import matplotlib.pyplot as plt\n",
    "from collections import Counter"
   ]
  },
  {
   "cell_type": "code",
   "execution_count": 2,
   "id": "5f43ffe7",
   "metadata": {},
   "outputs": [],
   "source": [
    "# Please replace the following paths with your own paths if you are using different ones.\n",
    "PROJECT_PATH = \"/mount/studenten/arbeitsdaten-studenten1/semantic-plausibility/plausible-parrots/\"\n",
    "DATA_PATH = \"/mount/studenten/semantic-plausibility/datasets/ellie/evaluation-dataset/\"\n",
    "CACHE_PATH = PROJECT_PATH + \"cache/\""
   ]
  },
  {
   "cell_type": "code",
   "execution_count": 4,
   "id": "feb2b249",
   "metadata": {},
   "outputs": [
    {
     "name": "stderr",
     "output_type": "stream",
     "text": [
      "None of PyTorch, TensorFlow >= 2.0, or Flax have been found. Models won't be available and only tokenizers, configuration and file/data utilities can be used.\n"
     ]
    }
   ],
   "source": [
    "from transformers import BertTokenizer\n",
    "\n",
    "tokenizer = BertTokenizer.from_pretrained('bert-base-uncased', cache_dir=CACHE_PATH)"
   ]
  },
  {
   "cell_type": "markdown",
   "id": "8bf4d965",
   "metadata": {},
   "source": [
    "## Ellie has only an eval set."
   ]
  },
  {
   "cell_type": "code",
   "execution_count": 5,
   "id": "1d4f6638",
   "metadata": {},
   "outputs": [
    {
     "data": {
      "text/html": [
       "<div>\n",
       "<style scoped>\n",
       "    .dataframe tbody tr th:only-of-type {\n",
       "        vertical-align: middle;\n",
       "    }\n",
       "\n",
       "    .dataframe tbody tr th {\n",
       "        vertical-align: top;\n",
       "    }\n",
       "\n",
       "    .dataframe thead th {\n",
       "        text-align: right;\n",
       "    }\n",
       "</style>\n",
       "<table border=\"1\" class=\"dataframe\">\n",
       "  <thead>\n",
       "    <tr style=\"text-align: right;\">\n",
       "      <th></th>\n",
       "      <th>ID</th>\n",
       "      <th>Condition</th>\n",
       "      <th>Sentence</th>\n",
       "      <th>Construction</th>\n",
       "      <th>Semantic_Role</th>\n",
       "      <th>binary-labels</th>\n",
       "      <th>multiclass-labels</th>\n",
       "    </tr>\n",
       "  </thead>\n",
       "  <tbody>\n",
       "    <tr>\n",
       "      <th>0</th>\n",
       "      <td>1</td>\n",
       "      <td>T – T</td>\n",
       "      <td>The photographer used the camera, and the repo...</td>\n",
       "      <td>VP-ellipsis</td>\n",
       "      <td>Agent</td>\n",
       "      <td>plausible</td>\n",
       "      <td>highly-plausible</td>\n",
       "    </tr>\n",
       "    <tr>\n",
       "      <th>1</th>\n",
       "      <td>1</td>\n",
       "      <td>T – AT</td>\n",
       "      <td>The photographer used the camera, and the butc...</td>\n",
       "      <td>VP-ellipsis</td>\n",
       "      <td>Agent</td>\n",
       "      <td>plausible</td>\n",
       "      <td>plausible</td>\n",
       "    </tr>\n",
       "    <tr>\n",
       "      <th>2</th>\n",
       "      <td>1</td>\n",
       "      <td>AT – T</td>\n",
       "      <td>The grandfather used the camera, and the repor...</td>\n",
       "      <td>VP-ellipsis</td>\n",
       "      <td>Agent</td>\n",
       "      <td>plausible</td>\n",
       "      <td>less-plausible</td>\n",
       "    </tr>\n",
       "    <tr>\n",
       "      <th>3</th>\n",
       "      <td>1</td>\n",
       "      <td>AT – AT</td>\n",
       "      <td>The grandfather used the camera, and the butch...</td>\n",
       "      <td>VP-ellipsis</td>\n",
       "      <td>Agent</td>\n",
       "      <td>plausible</td>\n",
       "      <td>less-plausible</td>\n",
       "    </tr>\n",
       "    <tr>\n",
       "      <th>4</th>\n",
       "      <td>1</td>\n",
       "      <td>T – SP violation</td>\n",
       "      <td>The photographer used the camera, and the bike...</td>\n",
       "      <td>VP-ellipsis</td>\n",
       "      <td>Agent</td>\n",
       "      <td>implausible</td>\n",
       "      <td>implausible</td>\n",
       "    </tr>\n",
       "    <tr>\n",
       "      <th>...</th>\n",
       "      <td>...</td>\n",
       "      <td>...</td>\n",
       "      <td>...</td>\n",
       "      <td>...</td>\n",
       "      <td>...</td>\n",
       "      <td>...</td>\n",
       "      <td>...</td>\n",
       "    </tr>\n",
       "    <tr>\n",
       "      <th>570</th>\n",
       "      <td>115</td>\n",
       "      <td>T – T</td>\n",
       "      <td>The tourist packed his bags before departure, ...</td>\n",
       "      <td>Pseudo-gapping</td>\n",
       "      <td>Time</td>\n",
       "      <td>plausible</td>\n",
       "      <td>highly-plausible</td>\n",
       "    </tr>\n",
       "    <tr>\n",
       "      <th>571</th>\n",
       "      <td>115</td>\n",
       "      <td>T – AT</td>\n",
       "      <td>The tourist packed his bags before departure, ...</td>\n",
       "      <td>Pseudo-gapping</td>\n",
       "      <td>Time</td>\n",
       "      <td>plausible</td>\n",
       "      <td>plausible</td>\n",
       "    </tr>\n",
       "    <tr>\n",
       "      <th>572</th>\n",
       "      <td>115</td>\n",
       "      <td>AT – T</td>\n",
       "      <td>The tourist packed his bags before the meeting...</td>\n",
       "      <td>Pseudo-gapping</td>\n",
       "      <td>Time</td>\n",
       "      <td>plausible</td>\n",
       "      <td>less-plausible</td>\n",
       "    </tr>\n",
       "    <tr>\n",
       "      <th>573</th>\n",
       "      <td>115</td>\n",
       "      <td>AT – AT</td>\n",
       "      <td>The tourist packed his bags before the meeting...</td>\n",
       "      <td>Pseudo-gapping</td>\n",
       "      <td>Time</td>\n",
       "      <td>plausible</td>\n",
       "      <td>less-plausible</td>\n",
       "    </tr>\n",
       "    <tr>\n",
       "      <th>574</th>\n",
       "      <td>115</td>\n",
       "      <td>T – SP violation</td>\n",
       "      <td>The tourist packed his bags before departure, ...</td>\n",
       "      <td>Pseudo-gapping</td>\n",
       "      <td>Time</td>\n",
       "      <td>implausible</td>\n",
       "      <td>implausible</td>\n",
       "    </tr>\n",
       "  </tbody>\n",
       "</table>\n",
       "<p>575 rows × 7 columns</p>\n",
       "</div>"
      ],
      "text/plain": [
       "      ID         Condition                                           Sentence  \\\n",
       "0      1             T – T  The photographer used the camera, and the repo...   \n",
       "1      1            T – AT  The photographer used the camera, and the butc...   \n",
       "2      1            AT – T  The grandfather used the camera, and the repor...   \n",
       "3      1           AT – AT  The grandfather used the camera, and the butch...   \n",
       "4      1  T – SP violation  The photographer used the camera, and the bike...   \n",
       "..   ...               ...                                                ...   \n",
       "570  115             T – T  The tourist packed his bags before departure, ...   \n",
       "571  115            T – AT  The tourist packed his bags before departure, ...   \n",
       "572  115            AT – T  The tourist packed his bags before the meeting...   \n",
       "573  115           AT – AT  The tourist packed his bags before the meeting...   \n",
       "574  115  T – SP violation  The tourist packed his bags before departure, ...   \n",
       "\n",
       "       Construction Semantic_Role binary-labels multiclass-labels  \n",
       "0       VP-ellipsis         Agent     plausible  highly-plausible  \n",
       "1       VP-ellipsis         Agent     plausible         plausible  \n",
       "2       VP-ellipsis         Agent     plausible    less-plausible  \n",
       "3       VP-ellipsis         Agent     plausible    less-plausible  \n",
       "4       VP-ellipsis         Agent   implausible       implausible  \n",
       "..              ...           ...           ...               ...  \n",
       "570  Pseudo-gapping          Time     plausible  highly-plausible  \n",
       "571  Pseudo-gapping          Time     plausible         plausible  \n",
       "572  Pseudo-gapping          Time     plausible    less-plausible  \n",
       "573  Pseudo-gapping          Time     plausible    less-plausible  \n",
       "574  Pseudo-gapping          Time   implausible       implausible  \n",
       "\n",
       "[575 rows x 7 columns]"
      ]
     },
     "execution_count": 5,
     "metadata": {},
     "output_type": "execute_result"
    }
   ],
   "source": [
    "eval_set_df = pd.read_csv(DATA_PATH + \"ELLie-reformatted.csv\", sep=',')\n",
    "eval_set_df"
   ]
  },
  {
   "cell_type": "code",
   "execution_count": 7,
   "id": "b63b121c",
   "metadata": {},
   "outputs": [
    {
     "data": {
      "text/plain": [
       "array(['1', 'T – T',\n",
       "       'The photographer used the camera, and the reporter did too.',\n",
       "       'VP-ellipsis', 'Agent', 'plausible', 'highly-plausible'],\n",
       "      dtype=object)"
      ]
     },
     "execution_count": 7,
     "metadata": {},
     "output_type": "execute_result"
    }
   ],
   "source": [
    "eval_set_df.iloc[0].values"
   ]
  },
  {
   "cell_type": "markdown",
   "id": "1aacc8bb",
   "metadata": {},
   "source": [
    "### Check conditions"
   ]
  },
  {
   "cell_type": "code",
   "execution_count": 5,
   "id": "9192f7b2",
   "metadata": {},
   "outputs": [
    {
     "name": "stdout",
     "output_type": "stream",
     "text": [
      "575\n",
      "5\n"
     ]
    },
    {
     "data": {
      "text/plain": [
       "['T – T', 'AT – AT', 'T – AT', 'AT – T', 'T – SP violation']"
      ]
     },
     "execution_count": 5,
     "metadata": {},
     "output_type": "execute_result"
    }
   ],
   "source": [
    "conditions = eval_set_df['Condition'].tolist()\n",
    "print(len(conditions))\n",
    "conditions_set = list(set(conditions))\n",
    "print(len(conditions_set))\n",
    "conditions_set"
   ]
  },
  {
   "cell_type": "code",
   "execution_count": 6,
   "id": "9fa73359",
   "metadata": {},
   "outputs": [
    {
     "data": {
      "text/plain": [
       "{'T – T': 115,\n",
       " 'T – AT': 115,\n",
       " 'AT – T': 115,\n",
       " 'AT – AT': 115,\n",
       " 'T – SP violation': 115}"
      ]
     },
     "execution_count": 6,
     "metadata": {},
     "output_type": "execute_result"
    }
   ],
   "source": [
    "condition_counter = dict(Counter(conditions))\n",
    "\n",
    "# Sort the data in descending order.\n",
    "condition_counter = {k: v for k, v in sorted(condition_counter.items(), key=lambda item: item[1], reverse=True)}\n",
    "condition_counter"
   ]
  },
  {
   "cell_type": "code",
   "execution_count": 7,
   "id": "ba192aa4",
   "metadata": {},
   "outputs": [
    {
     "data": {
      "image/png": "[encoded data removed]",
      "text/plain": [
       "<Figure size 640x480 with 1 Axes>"
      ]
     },
     "metadata": {},
     "output_type": "display_data"
    }
   ],
   "source": [
    "# Create a bar diagram\n",
    "plt.bar(condition_counter.keys(), condition_counter.values())\n",
    "\n",
    "# Add title and labels\n",
    "plt.title('Condition distribution')\n",
    "plt.xlabel('condition')\n",
    "plt.ylabel('number of instances')\n",
    "\n",
    "# Show the value on top of each bar\n",
    "for key, value in condition_counter.items():\n",
    "    plt.text(key, value, f'{value}', ha='center', va='bottom')\n",
    "\n",
    "# Display the plot\n",
    "plt.show()"
   ]
  },
  {
   "cell_type": "markdown",
   "id": "90034512",
   "metadata": {},
   "source": [
    "### Check sentences"
   ]
  },
  {
   "cell_type": "code",
   "execution_count": 8,
   "id": "ab1ecf61",
   "metadata": {},
   "outputs": [
    {
     "name": "stdout",
     "output_type": "stream",
     "text": [
      "575\n",
      "573\n"
     ]
    }
   ],
   "source": [
    "sentences = eval_set_df['Sentence'].tolist()\n",
    "print(len(sentences))\n",
    "sentences_set = list(set(sentences))\n",
    "print(len(sentences_set))"
   ]
  },
  {
   "cell_type": "code",
   "execution_count": 9,
   "id": "3932cf8f",
   "metadata": {
    "scrolled": true
   },
   "outputs": [
    {
     "name": "stdout",
     "output_type": "stream",
     "text": [
      "[12, 12, 12, 12, 12, 13, 13, 13, 13, 13, 14, 12, 14, 12, 11, 12, 12, 13, 13, 12, 16, 18, 14, 16, 16, 12, 12, 12, 12, 12, 13, 13, 13, 13, 13, 12, 12, 12, 12, 12, 14, 14, 16, 16, 14, 12, 12, 13, 13, 12, 13, 13, 14, 14, 13, 14, 14, 15, 15, 14, 14, 14, 14, 14, 14, 12, 12, 12, 12, 12, 15, 15, 12, 12, 15, 15, 15, 15, 15, 15, 13, 14, 13, 14, 13, 13, 12, 13, 12, 12, 13, 12, 13, 12, 12, 13, 13, 13, 13, 13, 16, 14, 16, 14, 14, 14, 14, 14, 14, 14, 14, 14, 14, 14, 14, 14, 14, 14, 14, 14, 15, 14, 15, 14, 14, 12, 12, 12, 12, 12, 13, 13, 13, 13, 13, 12, 12, 12, 12, 13, 12, 12, 12, 12, 12, 13, 13, 13, 13, 13, 13, 13, 13, 13, 13, 14, 15, 14, 15, 14, 12, 12, 12, 12, 12, 12, 12, 12, 12, 12, 14, 14, 14, 14, 14, 13, 13, 14, 14, 13, 14, 14, 14, 14, 14, 14, 14, 14, 14, 14, 14, 14, 14, 14, 14, 13, 13, 14, 14, 13, 14, 14, 17, 17, 14, 15, 15, 15, 15, 15, 15, 15, 15, 14, 15, 14, 14, 14, 14, 14, 15, 15, 15, 15, 15, 17, 17, 17, 17, 17, 13, 13, 13, 13, 13, 15, 15, 15, 15, 15, 16, 16, 16, 16, 16, 16, 16, 16, 16, 16, 17, 19, 15, 17, 18, 16, 16, 16, 16, 16, 16, 17, 16, 17, 16, 16, 17, 17, 18, 16, 21, 20, 20, 19, 20, 19, 19, 19, 19, 19, 21, 19, 20, 18, 19, 16, 15, 16, 15, 16, 13, 14, 13, 14, 14, 20, 19, 19, 18, 20, 15, 16, 16, 17, 15, 21, 20, 19, 18, 21, 18, 18, 18, 18, 17, 18, 17, 18, 17, 17, 17, 17, 17, 17, 16, 16, 17, 17, 18, 16, 18, 17, 18, 17, 19, 18, 18, 18, 18, 18, 21, 21, 22, 22, 21, 18, 18, 17, 17, 19, 20, 20, 20, 20, 20, 18, 18, 18, 18, 19, 17, 17, 17, 17, 17, 18, 18, 18, 18, 18, 18, 18, 18, 18, 19, 20, 20, 20, 20, 20, 17, 17, 17, 17, 17, 16, 16, 16, 16, 16, 15, 15, 16, 17, 17, 16, 16, 16, 16, 16, 16, 15, 16, 15, 16, 21, 21, 21, 21, 21, 19, 19, 19, 19, 19, 19, 19, 19, 19, 19, 20, 20, 20, 20, 20, 18, 18, 18, 18, 18, 16, 16, 16, 16, 15, 16, 16, 16, 16, 16, 16, 16, 16, 16, 16, 17, 16, 17, 16, 16, 20, 19, 20, 19, 19, 22, 22, 22, 22, 23, 16, 17, 16, 17, 16, 18, 18, 18, 18, 18, 17, 17, 17, 17, 17, 19, 19, 19, 19, 19, 16, 15, 16, 15, 16, 16, 16, 16, 16, 16, 17, 17, 17, 17, 17, 19, 19, 19, 19, 19, 17, 17, 18, 18, 17, 20, 20, 20, 20, 20, 19, 18, 20, 19, 18, 22, 21, 21, 20, 22, 18, 18, 18, 18, 18, 17, 16, 17, 16, 16, 18, 17, 18, 17, 17, 15, 15, 15, 15, 15, 14, 13, 14, 13, 14, 16, 16, 16, 16, 15, 18, 18, 18, 18, 18, 16, 16, 16, 16, 18, 18, 18, 18, 18, 18, 14, 14, 14, 14, 15, 16, 16, 17, 17, 16]\n"
     ]
    }
   ],
   "source": [
    "sentence_lengths = []\n",
    "for sent in sentences:\n",
    "    encoded_input = tokenizer(sent, add_special_tokens=False)['input_ids']\n",
    "    sentence_lengths.append(len(encoded_input))\n",
    "print(sentence_lengths)"
   ]
  },
  {
   "cell_type": "code",
   "execution_count": 10,
   "id": "bde1d601",
   "metadata": {},
   "outputs": [
    {
     "name": "stdout",
     "output_type": "stream",
     "text": [
      "average length: 15.86608695652174\n",
      "min length: 11\n",
      "max length: 23\n",
      "variance: 6.592502079395085\n",
      "std: 2.5675868202253813\n"
     ]
    }
   ],
   "source": [
    "sentence_lengths = np.asarray(sentence_lengths)\n",
    "\n",
    "# average length\n",
    "print('average length:', sentence_lengths.mean())\n",
    "\n",
    "# min length\n",
    "print('min length:', sentence_lengths.min())\n",
    "\n",
    "# max length\n",
    "print('max length:', sentence_lengths.max())\n",
    "\n",
    "# variance\n",
    "print('variance:', sentence_lengths.var())\n",
    "\n",
    "# std\n",
    "print('std:', sentence_lengths.std())"
   ]
  },
  {
   "cell_type": "markdown",
   "id": "6a0792d9",
   "metadata": {},
   "source": [
    "### Check constructions"
   ]
  },
  {
   "cell_type": "code",
   "execution_count": 11,
   "id": "6cb0b089",
   "metadata": {},
   "outputs": [
    {
     "name": "stdout",
     "output_type": "stream",
     "text": [
      "575\n",
      "6\n"
     ]
    },
    {
     "data": {
      "text/plain": [
       "['Pseudo-gapping',\n",
       " 'Sluicing',\n",
       " 'VP-ellipsis',\n",
       " 'Sluice-Stranding',\n",
       " 'Do-x/ Do-so anaphora',\n",
       " 'Gapping']"
      ]
     },
     "execution_count": 11,
     "metadata": {},
     "output_type": "execute_result"
    }
   ],
   "source": [
    "constructions = eval_set_df['Construction'].tolist()\n",
    "print(len(constructions))\n",
    "constructions_set = list(set(constructions))\n",
    "print(len(constructions_set))\n",
    "constructions_set"
   ]
  },
  {
   "cell_type": "code",
   "execution_count": 12,
   "id": "48fe8094",
   "metadata": {},
   "outputs": [
    {
     "data": {
      "text/plain": [
       "{'Gapping': 155,\n",
       " 'Pseudo-gapping': 150,\n",
       " 'VP-ellipsis': 110,\n",
       " 'Do-x/ Do-so anaphora': 110,\n",
       " 'Sluicing': 25,\n",
       " 'Sluice-Stranding': 25}"
      ]
     },
     "execution_count": 12,
     "metadata": {},
     "output_type": "execute_result"
    }
   ],
   "source": [
    "construction_counter = dict(Counter(constructions))\n",
    "\n",
    "# Sort the data in descending order.\n",
    "construction_counter = {k: v for k, v in sorted(construction_counter.items(), key=lambda item: item[1], reverse=True)}\n",
    "construction_counter"
   ]
  },
  {
   "cell_type": "code",
   "execution_count": 13,
   "id": "381c3664",
   "metadata": {},
   "outputs": [
    {
     "data": {
      "image/png": "[encoded data removed]",
      "text/plain": [
       "<Figure size 640x480 with 1 Axes>"
      ]
     },
     "metadata": {},
     "output_type": "display_data"
    }
   ],
   "source": [
    "# Create a bar diagram\n",
    "plt.bar(construction_counter.keys(), construction_counter.values())\n",
    "\n",
    "# Add title and labels\n",
    "plt.title('Construction distribution')\n",
    "plt.xlabel('construction')\n",
    "plt.ylabel('number of instances')\n",
    "\n",
    "# Show the value on top of each bar\n",
    "for key, value in construction_counter.items():\n",
    "    plt.text(key, value, f'{value}', ha='center', va='bottom')\n",
    "\n",
    "# Display the plot\n",
    "plt.show()"
   ]
  },
  {
   "cell_type": "markdown",
   "id": "895331d5",
   "metadata": {},
   "source": [
    "### Check semantic role"
   ]
  },
  {
   "cell_type": "code",
   "execution_count": 14,
   "id": "fa6b04e3",
   "metadata": {},
   "outputs": [
    {
     "name": "stdout",
     "output_type": "stream",
     "text": [
      "575\n",
      "5\n"
     ]
    }
   ],
   "source": [
    "semantic_roles = eval_set_df['Semantic_Role'].tolist()\n",
    "print(len(semantic_roles))\n",
    "semantic_roles_set = list(set(semantic_roles))\n",
    "print(len(semantic_roles_set))"
   ]
  },
  {
   "cell_type": "code",
   "execution_count": 15,
   "id": "2dc5cf04",
   "metadata": {},
   "outputs": [
    {
     "data": {
      "text/plain": [
       "{'Agent': 125, 'Patient': 125, 'Instrument': 125, 'Location': 100, 'Time': 100}"
      ]
     },
     "execution_count": 15,
     "metadata": {},
     "output_type": "execute_result"
    }
   ],
   "source": [
    "semantic_role_counter = dict(Counter(semantic_roles))\n",
    "\n",
    "# Sort the data in descending order.\n",
    "semantic_role_counter = {k: v for k, v in sorted(semantic_role_counter.items(), key=lambda item: item[1], reverse=True)}\n",
    "semantic_role_counter"
   ]
  },
  {
   "cell_type": "code",
   "execution_count": 16,
   "id": "4e6d253c",
   "metadata": {},
   "outputs": [
    {
     "data": {
      "image/png": "[encoded data removed]",
      "text/plain": [
       "<Figure size 640x480 with 1 Axes>"
      ]
     },
     "metadata": {},
     "output_type": "display_data"
    }
   ],
   "source": [
    "# Create a bar diagram\n",
    "plt.bar(semantic_role_counter.keys(), semantic_role_counter.values())\n",
    "\n",
    "# Add title and labels\n",
    "plt.title('Semantic role distribution')\n",
    "plt.xlabel('construction')\n",
    "plt.ylabel('number of instances')\n",
    "\n",
    "# Show the value on top of each bar\n",
    "for key, value in semantic_role_counter.items():\n",
    "    plt.text(key, value, f'{value}', ha='center', va='bottom')\n",
    "\n",
    "# Display the plot\n",
    "plt.show()"
   ]
  },
  {
   "cell_type": "markdown",
   "id": "af3d65c8",
   "metadata": {},
   "source": [
    "### Check binary labels"
   ]
  },
  {
   "cell_type": "code",
   "execution_count": 20,
   "id": "29cf8d04",
   "metadata": {},
   "outputs": [
    {
     "name": "stdout",
     "output_type": "stream",
     "text": [
      "575\n",
      "2\n"
     ]
    },
    {
     "data": {
      "text/plain": [
       "['implausible', 'plausible']"
      ]
     },
     "execution_count": 20,
     "metadata": {},
     "output_type": "execute_result"
    }
   ],
   "source": [
    "binary_labels = eval_set_df['binary-labels'].tolist()\n",
    "print(len(binary_labels))\n",
    "binary_labels_set = list(set(binary_labels))\n",
    "print(len(binary_labels_set))\n",
    "binary_labels_set"
   ]
  },
  {
   "cell_type": "code",
   "execution_count": 21,
   "id": "ce5f050c",
   "metadata": {},
   "outputs": [
    {
     "data": {
      "text/plain": [
       "{'plausible': 460, 'implausible': 115}"
      ]
     },
     "execution_count": 21,
     "metadata": {},
     "output_type": "execute_result"
    }
   ],
   "source": [
    "binary_label_counter = dict(Counter(binary_labels))\n",
    "\n",
    "# Sort the data in descending order.\n",
    "binary_label_counter = {k: v for k, v in sorted(binary_label_counter.items(), key=lambda item: item[1], reverse=True)}\n",
    "binary_label_counter"
   ]
  },
  {
   "cell_type": "code",
   "execution_count": 22,
   "id": "e57f11e0",
   "metadata": {},
   "outputs": [
    {
     "data": {
      "image/png": "[encoded data removed]",
      "text/plain": [
       "<Figure size 640x480 with 1 Axes>"
      ]
     },
     "metadata": {},
     "output_type": "display_data"
    }
   ],
   "source": [
    "# Create a bar diagram\n",
    "plt.bar(binary_label_counter.keys(), binary_label_counter.values())\n",
    "\n",
    "# Add title and labels\n",
    "plt.title('Binary label distribution')\n",
    "plt.xlabel('binary label')\n",
    "plt.ylabel('number of instances')\n",
    "\n",
    "# Show the value on top of each bar\n",
    "for key, value in binary_label_counter.items():\n",
    "    plt.text(key, value, f'{value}', ha='center', va='bottom')\n",
    "\n",
    "# Display the plot\n",
    "plt.show()"
   ]
  },
  {
   "cell_type": "markdown",
   "id": "ee6ccbf4",
   "metadata": {},
   "source": [
    "### Check multiclass-labels"
   ]
  },
  {
   "cell_type": "code",
   "execution_count": 23,
   "id": "b74857f2",
   "metadata": {},
   "outputs": [
    {
     "name": "stdout",
     "output_type": "stream",
     "text": [
      "575\n",
      "4\n"
     ]
    },
    {
     "data": {
      "text/plain": [
       "['plausible', 'less-plausible', 'implausible', 'highly-plausible']"
      ]
     },
     "execution_count": 23,
     "metadata": {},
     "output_type": "execute_result"
    }
   ],
   "source": [
    "multiclass_labels = eval_set_df['multiclass-labels'].tolist()\n",
    "print(len(multiclass_labels))\n",
    "multiclass_labels_set = list(set(multiclass_labels))\n",
    "print(len(multiclass_labels_set))\n",
    "multiclass_labels_set"
   ]
  },
  {
   "cell_type": "code",
   "execution_count": 24,
   "id": "3a8c83a6",
   "metadata": {},
   "outputs": [
    {
     "data": {
      "text/plain": [
       "{'less-plausible': 230,\n",
       " 'highly-plausible': 115,\n",
       " 'plausible': 115,\n",
       " 'implausible': 115}"
      ]
     },
     "execution_count": 24,
     "metadata": {},
     "output_type": "execute_result"
    }
   ],
   "source": [
    "multiclass_label_counter = dict(Counter(multiclass_labels))\n",
    "\n",
    "# Sort the data in descending order.\n",
    "multiclass_label_counter = {k: v for k, v in sorted(multiclass_label_counter.items(), key=lambda item: item[1], reverse=True)}\n",
    "multiclass_label_counter"
   ]
  },
  {
   "cell_type": "code",
   "execution_count": 25,
   "id": "c2b4b0b2",
   "metadata": {},
   "outputs": [
    {
     "data": {
      "image/png": "[encoded data removed]",
      "text/plain": [
       "<Figure size 640x480 with 1 Axes>"
      ]
     },
     "metadata": {},
     "output_type": "display_data"
    }
   ],
   "source": [
    "# Create a bar diagram\n",
    "plt.bar(multiclass_label_counter.keys(), multiclass_label_counter.values())\n",
    "\n",
    "# Add title and labels\n",
    "plt.title('Multiclass label distribution')\n",
    "plt.xlabel('multiclass label')\n",
    "plt.ylabel('number of instances')\n",
    "\n",
    "# Show the value on top of each bar\n",
    "for key, value in multiclass_label_counter.items():\n",
    "    plt.text(key, value, f'{value}', ha='center', va='bottom')\n",
    "\n",
    "# Display the plot\n",
    "plt.show()"
   ]
  },
  {
   "cell_type": "code",
   "execution_count": null,
   "id": "0647eb50",
   "metadata": {},
   "outputs": [],
   "source": []
  }
 ],
 "metadata": {
  "kernelspec": {
   "display_name": "Python 3 (ipykernel)",
   "language": "python",
   "name": "python3"
  },
  "language_info": {
   "codemirror_mode": {
    "name": "ipython",
    "version": 3
   },
   "file_extension": ".py",
   "mimetype": "text/x-python",
   "name": "python",
   "nbconvert_exporter": "python",
   "pygments_lexer": "ipython3",
   "version": "3.11.5"
  }
 },
 "nbformat": 4,
 "nbformat_minor": 5
}
