{
 "cells": [
  {
   "cell_type": "markdown",
   "id": "1933aa78",
   "metadata": {},
   "source": [
    "# Study the data statistics of the pap dataset (dev).\n",
    "29.11.2023"
   ]
  },
  {
   "cell_type": "code",
   "execution_count": 1,
   "id": "9a560051",
   "metadata": {},
   "outputs": [],
   "source": [
    "import os\n",
    "import json\n",
    "import numpy as np\n",
    "import pandas as pd\n",
    "import matplotlib.pyplot as plt\n",
    "from collections import Counter"
   ]
  },
  {
   "cell_type": "code",
   "execution_count": 2,
   "id": "99960dcd",
   "metadata": {},
   "outputs": [],
   "source": [
    "# Please replace the following paths with your own paths if you are using different ones.\n",
    "PROJECT_PATH = \"<root_dir_of_this_repo>\"\n",
    "DATA_PATH = PROJECT_PATH + \"datasets/pap/train-dev-test-split/binary/\"\n",
    "CACHE_PATH = PROJECT_PATH + \"cache/\""
   ]
  },
  {
   "cell_type": "markdown",
   "id": "0c3ebcaf",
   "metadata": {},
   "source": [
    "## Train"
   ]
  },
  {
   "cell_type": "code",
   "execution_count": 3,
   "id": "7915d414",
   "metadata": {},
   "outputs": [
    {
     "data": {
      "text/html": [
       "<div>\n",
       "<style scoped>\n",
       "    .dataframe tbody tr th:only-of-type {\n",
       "        vertical-align: middle;\n",
       "    }\n",
       "\n",
       "    .dataframe tbody tr th {\n",
       "        vertical-align: top;\n",
       "    }\n",
       "\n",
       "    .dataframe thead th {\n",
       "        text-align: right;\n",
       "    }\n",
       "</style>\n",
       "<table border=\"1\" class=\"dataframe\">\n",
       "  <thead>\n",
       "    <tr style=\"text-align: right;\">\n",
       "      <th></th>\n",
       "      <th>text</th>\n",
       "      <th>original_label</th>\n",
       "      <th>label</th>\n",
       "    </tr>\n",
       "  </thead>\n",
       "  <tbody>\n",
       "    <tr>\n",
       "      <th>0</th>\n",
       "      <td>method seizes bacterium</td>\n",
       "      <td>implausible</td>\n",
       "      <td>0</td>\n",
       "    </tr>\n",
       "    <tr>\n",
       "      <th>1</th>\n",
       "      <td>technician visits community</td>\n",
       "      <td>plausible</td>\n",
       "      <td>1</td>\n",
       "    </tr>\n",
       "    <tr>\n",
       "      <th>2</th>\n",
       "      <td>inclusion expands range</td>\n",
       "      <td>plausible</td>\n",
       "      <td>1</td>\n",
       "    </tr>\n",
       "    <tr>\n",
       "      <th>3</th>\n",
       "      <td>pencil puts norm</td>\n",
       "      <td>implausible</td>\n",
       "      <td>0</td>\n",
       "    </tr>\n",
       "    <tr>\n",
       "      <th>4</th>\n",
       "      <td>solution musters team</td>\n",
       "      <td>implausible</td>\n",
       "      <td>1</td>\n",
       "    </tr>\n",
       "    <tr>\n",
       "      <th>...</th>\n",
       "      <td>...</td>\n",
       "      <td>...</td>\n",
       "      <td>...</td>\n",
       "    </tr>\n",
       "    <tr>\n",
       "      <th>211</th>\n",
       "      <td>variable represents domain</td>\n",
       "      <td>plausible</td>\n",
       "      <td>1</td>\n",
       "    </tr>\n",
       "    <tr>\n",
       "      <th>212</th>\n",
       "      <td>circuit transcends driver</td>\n",
       "      <td>implausible</td>\n",
       "      <td>1</td>\n",
       "    </tr>\n",
       "    <tr>\n",
       "      <th>213</th>\n",
       "      <td>arrow wears chest</td>\n",
       "      <td>implausible</td>\n",
       "      <td>0</td>\n",
       "    </tr>\n",
       "    <tr>\n",
       "      <th>214</th>\n",
       "      <td>blast leaves person</td>\n",
       "      <td>plausible</td>\n",
       "      <td>0</td>\n",
       "    </tr>\n",
       "    <tr>\n",
       "      <th>215</th>\n",
       "      <td>landlord declares intention</td>\n",
       "      <td>plausible</td>\n",
       "      <td>1</td>\n",
       "    </tr>\n",
       "  </tbody>\n",
       "</table>\n",
       "<p>216 rows × 3 columns</p>\n",
       "</div>"
      ],
      "text/plain": [
       "                            text original_label  label\n",
       "0        method seizes bacterium    implausible      0\n",
       "1    technician visits community      plausible      1\n",
       "2        inclusion expands range      plausible      1\n",
       "3               pencil puts norm    implausible      0\n",
       "4          solution musters team    implausible      1\n",
       "..                           ...            ...    ...\n",
       "211   variable represents domain      plausible      1\n",
       "212    circuit transcends driver    implausible      1\n",
       "213            arrow wears chest    implausible      0\n",
       "214          blast leaves person      plausible      0\n",
       "215  landlord declares intention      plausible      1\n",
       "\n",
       "[216 rows x 3 columns]"
      ]
     },
     "execution_count": 3,
     "metadata": {},
     "output_type": "execute_result"
    }
   ],
   "source": [
    "dev_set_df = pd.read_csv(DATA_PATH + \"dev.csv\", sep=',')\n",
    "dev_set_df"
   ]
  },
  {
   "cell_type": "markdown",
   "id": "602e770e",
   "metadata": {},
   "source": [
    "### Check texts"
   ]
  },
  {
   "cell_type": "code",
   "execution_count": 4,
   "id": "a9ba9703",
   "metadata": {},
   "outputs": [
    {
     "name": "stdout",
     "output_type": "stream",
     "text": [
      "216\n",
      "216\n"
     ]
    }
   ],
   "source": [
    "texts = dev_set_df['text'].tolist()\n",
    "print(len(texts))\n",
    "texts_set = list(set(texts))\n",
    "print(len(texts_set))"
   ]
  },
  {
   "cell_type": "code",
   "execution_count": 5,
   "id": "d06adaea",
   "metadata": {},
   "outputs": [
    {
     "name": "stdout",
     "output_type": "stream",
     "text": [
      "648\n",
      "553\n"
     ]
    }
   ],
   "source": [
    "# Get vocabulary from texts.\n",
    "\n",
    "from itertools import chain\n",
    "words = [text.split(\" \") for text in texts]\n",
    "words = list(chain(*words))\n",
    "print(len(words))\n",
    "\n",
    "vocab = list(set(words))\n",
    "print(len(vocab))"
   ]
  },
  {
   "cell_type": "markdown",
   "id": "0fd4e2b7",
   "metadata": {},
   "source": [
    "### Check original labels"
   ]
  },
  {
   "cell_type": "code",
   "execution_count": 6,
   "id": "b1d4d418",
   "metadata": {},
   "outputs": [
    {
     "name": "stdout",
     "output_type": "stream",
     "text": [
      "216\n",
      "2\n"
     ]
    },
    {
     "data": {
      "text/plain": [
       "['plausible', 'implausible']"
      ]
     },
     "execution_count": 6,
     "metadata": {},
     "output_type": "execute_result"
    }
   ],
   "source": [
    "original_labels = dev_set_df['original_label'].tolist()\n",
    "print(len(original_labels))\n",
    "original_labels_set = list(set(original_labels))\n",
    "print(len(original_labels_set))\n",
    "original_labels_set"
   ]
  },
  {
   "cell_type": "code",
   "execution_count": 7,
   "id": "a8d7da9a",
   "metadata": {},
   "outputs": [
    {
     "data": {
      "text/plain": [
       "{'implausible': 110, 'plausible': 106}"
      ]
     },
     "execution_count": 7,
     "metadata": {},
     "output_type": "execute_result"
    }
   ],
   "source": [
    "original_label_counter = dict(Counter(original_labels))\n",
    "\n",
    "# Sort the data in descending order.\n",
    "original_label_counter = {k: v for k, v in sorted(original_label_counter.items(), key=lambda item: item[1], reverse=True)}\n",
    "original_label_counter"
   ]
  },
  {
   "cell_type": "code",
   "execution_count": 8,
   "id": "9843b53e",
   "metadata": {},
   "outputs": [
    {
     "data": {
      "image/png": "[encoded data removed]",
      "text/plain": [
       "<Figure size 640x480 with 1 Axes>"
      ]
     },
     "metadata": {},
     "output_type": "display_data"
    }
   ],
   "source": [
    "# Create a bar diagram\n",
    "plt.bar(original_label_counter.keys(), original_label_counter.values())\n",
    "\n",
    "# Add title and labels\n",
    "plt.title('Original label distribution')\n",
    "plt.xlabel('original label')\n",
    "plt.ylabel('number of instances')\n",
    "\n",
    "# Show the value on top of each bar\n",
    "for key, value in original_label_counter.items():\n",
    "    plt.text(key, value, f'{value}', ha='center', va='bottom')\n",
    "\n",
    "# Display the plot\n",
    "plt.show()"
   ]
  },
  {
   "cell_type": "markdown",
   "id": "8a59f03c",
   "metadata": {},
   "source": [
    "### Check labels"
   ]
  },
  {
   "cell_type": "code",
   "execution_count": 9,
   "id": "23a08f32",
   "metadata": {},
   "outputs": [
    {
     "name": "stdout",
     "output_type": "stream",
     "text": [
      "216\n",
      "2\n"
     ]
    },
    {
     "data": {
      "text/plain": [
       "[0, 1]"
      ]
     },
     "execution_count": 9,
     "metadata": {},
     "output_type": "execute_result"
    }
   ],
   "source": [
    "labels = dev_set_df['label'].tolist()\n",
    "print(len(labels))\n",
    "labels_set = list(set(labels))\n",
    "print(len(labels_set))\n",
    "labels_set"
   ]
  },
  {
   "cell_type": "code",
   "execution_count": 10,
   "id": "58ec3192",
   "metadata": {},
   "outputs": [
    {
     "data": {
      "text/plain": [
       "{1: 154, 0: 62}"
      ]
     },
     "execution_count": 10,
     "metadata": {},
     "output_type": "execute_result"
    }
   ],
   "source": [
    "label_counter = dict(Counter(labels))\n",
    "\n",
    "# Sort the data in descending order.\n",
    "label_counter = {k: v for k, v in sorted(label_counter.items(), key=lambda item: item[1], reverse=True)}\n",
    "label_counter"
   ]
  },
  {
   "cell_type": "code",
   "execution_count": 11,
   "id": "4ffe52a9",
   "metadata": {},
   "outputs": [
    {
     "data": {
      "image/png": "[encoded data removed]",
      "text/plain": [
       "<Figure size 640x480 with 1 Axes>"
      ]
     },
     "metadata": {},
     "output_type": "display_data"
    }
   ],
   "source": [
    "# Create a bar diagram\n",
    "plt.bar(label_counter.keys(), label_counter.values())\n",
    "\n",
    "# Add title and labels\n",
    "plt.title('Label distribution')\n",
    "plt.xlabel('label')\n",
    "plt.ylabel('number of instances')\n",
    "\n",
    "# Show the value on top of each bar\n",
    "for key, value in label_counter.items():\n",
    "    plt.text(key, value, f'{value}', ha='center', va='bottom')\n",
    "\n",
    "# Display the plot\n",
    "plt.show()"
   ]
  },
  {
   "cell_type": "code",
   "execution_count": null,
   "id": "444b9c5c",
   "metadata": {},
   "outputs": [],
   "source": []
  }
 ],
 "metadata": {
  "kernelspec": {
   "display_name": "Python 3 (ipykernel)",
   "language": "python",
   "name": "python3"
  },
  "language_info": {
   "codemirror_mode": {
    "name": "ipython",
    "version": 3
   },
   "file_extension": ".py",
   "mimetype": "text/x-python",
   "name": "python",
   "nbconvert_exporter": "python",
   "pygments_lexer": "ipython3",
   "version": "3.11.5"
  }
 },
 "nbformat": 4,
 "nbformat_minor": 5
}
