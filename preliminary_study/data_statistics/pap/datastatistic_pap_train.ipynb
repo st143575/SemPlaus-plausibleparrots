{
 "cells": [
  {
   "cell_type": "markdown",
   "id": "7e6d3f43",
   "metadata": {},
   "source": [
    "# Study the data statistics of the pap dataset (train).\n",
    "29.11.2023"
   ]
  },
  {
   "cell_type": "code",
   "execution_count": 1,
   "id": "3b490378",
   "metadata": {},
   "outputs": [],
   "source": [
    "import os\n",
    "import json\n",
    "import numpy as np\n",
    "import pandas as pd\n",
    "import matplotlib.pyplot as plt\n",
    "from collections import Counter"
   ]
  },
  {
   "cell_type": "code",
   "execution_count": 2,
   "id": "7f82aea8",
   "metadata": {},
   "outputs": [],
   "source": [
    "# Please replace the following paths with your own paths if you are using different ones.\n",
    "PROJECT_PATH = \"<root_dir_of_this_repo>\"\n",
    "DATA_PATH = PROJECT_PATH + \"datasets/pap/train-dev-test-split/binary/\"\n",
    "CACHE_PATH = PROJECT_PATH + \"cache/\""
   ]
  },
  {
   "cell_type": "markdown",
   "id": "fe40f4f3",
   "metadata": {},
   "source": [
    "## Train"
   ]
  },
  {
   "cell_type": "code",
   "execution_count": 3,
   "id": "bd7add36",
   "metadata": {},
   "outputs": [
    {
     "data": {
      "text/html": [
       "<div>\n",
       "<style scoped>\n",
       "    .dataframe tbody tr th:only-of-type {\n",
       "        vertical-align: middle;\n",
       "    }\n",
       "\n",
       "    .dataframe tbody tr th {\n",
       "        vertical-align: top;\n",
       "    }\n",
       "\n",
       "    .dataframe thead th {\n",
       "        text-align: right;\n",
       "    }\n",
       "</style>\n",
       "<table border=\"1\" class=\"dataframe\">\n",
       "  <thead>\n",
       "    <tr style=\"text-align: right;\">\n",
       "      <th></th>\n",
       "      <th>text</th>\n",
       "      <th>original_label</th>\n",
       "      <th>label</th>\n",
       "    </tr>\n",
       "  </thead>\n",
       "  <tbody>\n",
       "    <tr>\n",
       "      <th>0</th>\n",
       "      <td>event occurs year</td>\n",
       "      <td>plausible</td>\n",
       "      <td>1</td>\n",
       "    </tr>\n",
       "    <tr>\n",
       "      <th>1</th>\n",
       "      <td>tortoise brings limb</td>\n",
       "      <td>plausible</td>\n",
       "      <td>1</td>\n",
       "    </tr>\n",
       "    <tr>\n",
       "      <th>2</th>\n",
       "      <td>headliner overpowers function</td>\n",
       "      <td>implausible</td>\n",
       "      <td>1</td>\n",
       "    </tr>\n",
       "    <tr>\n",
       "      <th>3</th>\n",
       "      <td>county receives hour</td>\n",
       "      <td>plausible</td>\n",
       "      <td>0</td>\n",
       "    </tr>\n",
       "    <tr>\n",
       "      <th>4</th>\n",
       "      <td>traveler acknowledges recognition</td>\n",
       "      <td>implausible</td>\n",
       "      <td>1</td>\n",
       "    </tr>\n",
       "    <tr>\n",
       "      <th>...</th>\n",
       "      <td>...</td>\n",
       "      <td>...</td>\n",
       "      <td>...</td>\n",
       "    </tr>\n",
       "    <tr>\n",
       "      <th>1723</th>\n",
       "      <td>classification hauls slavery</td>\n",
       "      <td>implausible</td>\n",
       "      <td>1</td>\n",
       "    </tr>\n",
       "    <tr>\n",
       "      <th>1724</th>\n",
       "      <td>library needs space</td>\n",
       "      <td>plausible</td>\n",
       "      <td>1</td>\n",
       "    </tr>\n",
       "    <tr>\n",
       "      <th>1725</th>\n",
       "      <td>analysis constrains theory</td>\n",
       "      <td>plausible</td>\n",
       "      <td>1</td>\n",
       "    </tr>\n",
       "    <tr>\n",
       "      <th>1726</th>\n",
       "      <td>row elicits game</td>\n",
       "      <td>plausible</td>\n",
       "      <td>1</td>\n",
       "    </tr>\n",
       "    <tr>\n",
       "      <th>1727</th>\n",
       "      <td>consumer pokes vision</td>\n",
       "      <td>implausible</td>\n",
       "      <td>1</td>\n",
       "    </tr>\n",
       "  </tbody>\n",
       "</table>\n",
       "<p>1728 rows × 3 columns</p>\n",
       "</div>"
      ],
      "text/plain": [
       "                                   text original_label  label\n",
       "0                     event occurs year      plausible      1\n",
       "1                  tortoise brings limb      plausible      1\n",
       "2         headliner overpowers function    implausible      1\n",
       "3                  county receives hour      plausible      0\n",
       "4     traveler acknowledges recognition    implausible      1\n",
       "...                                 ...            ...    ...\n",
       "1723       classification hauls slavery    implausible      1\n",
       "1724                library needs space      plausible      1\n",
       "1725         analysis constrains theory      plausible      1\n",
       "1726                   row elicits game      plausible      1\n",
       "1727              consumer pokes vision    implausible      1\n",
       "\n",
       "[1728 rows x 3 columns]"
      ]
     },
     "execution_count": 3,
     "metadata": {},
     "output_type": "execute_result"
    }
   ],
   "source": [
    "train_set_df = pd.read_csv(DATA_PATH + \"train.csv\", sep=',')\n",
    "train_set_df"
   ]
  },
  {
   "cell_type": "markdown",
   "id": "48d85989",
   "metadata": {},
   "source": [
    "### Check texts"
   ]
  },
  {
   "cell_type": "code",
   "execution_count": 4,
   "id": "629265a8",
   "metadata": {},
   "outputs": [
    {
     "name": "stdout",
     "output_type": "stream",
     "text": [
      "1728\n",
      "1728\n"
     ]
    }
   ],
   "source": [
    "texts = train_set_df['text'].tolist()\n",
    "print(len(texts))\n",
    "texts_set = list(set(texts))\n",
    "print(len(texts_set))"
   ]
  },
  {
   "cell_type": "code",
   "execution_count": 7,
   "id": "909577c9",
   "metadata": {},
   "outputs": [
    {
     "name": "stdout",
     "output_type": "stream",
     "text": [
      "5184\n",
      "2460\n"
     ]
    }
   ],
   "source": [
    "# Get vocabulary from texts.\n",
    "\n",
    "from itertools import chain\n",
    "words = [text.split(\" \") for text in texts]\n",
    "words = list(chain(*words))\n",
    "print(len(words))\n",
    "\n",
    "vocab = list(set(words))\n",
    "print(len(vocab))"
   ]
  },
  {
   "cell_type": "markdown",
   "id": "467a1776",
   "metadata": {},
   "source": [
    "### Check original labels"
   ]
  },
  {
   "cell_type": "code",
   "execution_count": 10,
   "id": "c042946a",
   "metadata": {},
   "outputs": [
    {
     "name": "stdout",
     "output_type": "stream",
     "text": [
      "1728\n",
      "2\n"
     ]
    },
    {
     "data": {
      "text/plain": [
       "['implausible', 'plausible']"
      ]
     },
     "execution_count": 10,
     "metadata": {},
     "output_type": "execute_result"
    }
   ],
   "source": [
    "original_labels = train_set_df['original_label'].tolist()\n",
    "print(len(original_labels))\n",
    "original_labels_set = list(set(original_labels))\n",
    "print(len(original_labels_set))\n",
    "original_labels_set"
   ]
  },
  {
   "cell_type": "code",
   "execution_count": 11,
   "id": "2d0e62ac",
   "metadata": {},
   "outputs": [
    {
     "data": {
      "text/plain": [
       "{'plausible': 867, 'implausible': 861}"
      ]
     },
     "execution_count": 11,
     "metadata": {},
     "output_type": "execute_result"
    }
   ],
   "source": [
    "original_label_counter = dict(Counter(original_labels))\n",
    "\n",
    "# Sort the data in descending order.\n",
    "original_label_counter = {k: v for k, v in sorted(original_label_counter.items(), key=lambda item: item[1], reverse=True)}\n",
    "original_label_counter"
   ]
  },
  {
   "cell_type": "code",
   "execution_count": 12,
   "id": "f837ee6f",
   "metadata": {},
   "outputs": [
    {
     "data": {
      "image/png": "[encoded data removed]",
      "text/plain": [
       "<Figure size 640x480 with 1 Axes>"
      ]
     },
     "metadata": {},
     "output_type": "display_data"
    }
   ],
   "source": [
    "# Create a bar diagram\n",
    "plt.bar(original_label_counter.keys(), original_label_counter.values())\n",
    "\n",
    "# Add title and labels\n",
    "plt.title('Original label distribution')\n",
    "plt.xlabel('original label')\n",
    "plt.ylabel('number of instances')\n",
    "\n",
    "# Show the value on top of each bar\n",
    "for key, value in original_label_counter.items():\n",
    "    plt.text(key, value, f'{value}', ha='center', va='bottom')\n",
    "\n",
    "# Display the plot\n",
    "plt.show()"
   ]
  },
  {
   "cell_type": "markdown",
   "id": "7ceed30c",
   "metadata": {},
   "source": [
    "### Check labels"
   ]
  },
  {
   "cell_type": "code",
   "execution_count": 13,
   "id": "6daaf891",
   "metadata": {},
   "outputs": [
    {
     "name": "stdout",
     "output_type": "stream",
     "text": [
      "1728\n",
      "2\n"
     ]
    },
    {
     "data": {
      "text/plain": [
       "[0, 1]"
      ]
     },
     "execution_count": 13,
     "metadata": {},
     "output_type": "execute_result"
    }
   ],
   "source": [
    "labels = train_set_df['label'].tolist()\n",
    "print(len(labels))\n",
    "labels_set = list(set(labels))\n",
    "print(len(labels_set))\n",
    "labels_set"
   ]
  },
  {
   "cell_type": "code",
   "execution_count": 14,
   "id": "d16de017",
   "metadata": {},
   "outputs": [
    {
     "data": {
      "text/plain": [
       "{1: 1231, 0: 497}"
      ]
     },
     "execution_count": 14,
     "metadata": {},
     "output_type": "execute_result"
    }
   ],
   "source": [
    "label_counter = dict(Counter(labels))\n",
    "\n",
    "# Sort the data in descending order.\n",
    "label_counter = {k: v for k, v in sorted(label_counter.items(), key=lambda item: item[1], reverse=True)}\n",
    "label_counter"
   ]
  },
  {
   "cell_type": "code",
   "execution_count": 16,
   "id": "d9d3a5f1",
   "metadata": {},
   "outputs": [
    {
     "data": {
      "image/png": "[encoded data removed]",
      "text/plain": [
       "<Figure size 640x480 with 1 Axes>"
      ]
     },
     "metadata": {},
     "output_type": "display_data"
    }
   ],
   "source": [
    "# Create a bar diagram\n",
    "plt.bar(label_counter.keys(), label_counter.values())\n",
    "\n",
    "# Add title and labels\n",
    "plt.title('Label distribution')\n",
    "plt.xlabel('label')\n",
    "plt.ylabel('number of instances')\n",
    "\n",
    "# Show the value on top of each bar\n",
    "for key, value in label_counter.items():\n",
    "    plt.text(key, value, f'{value}', ha='center', va='bottom')\n",
    "\n",
    "# Display the plot\n",
    "plt.show()"
   ]
  },
  {
   "cell_type": "code",
   "execution_count": null,
   "id": "16fd725c",
   "metadata": {},
   "outputs": [],
   "source": []
  }
 ],
 "metadata": {
  "kernelspec": {
   "display_name": "Python 3 (ipykernel)",
   "language": "python",
   "name": "python3"
  },
  "language_info": {
   "codemirror_mode": {
    "name": "ipython",
    "version": 3
   },
   "file_extension": ".py",
   "mimetype": "text/x-python",
   "name": "python",
   "nbconvert_exporter": "python",
   "pygments_lexer": "ipython3",
   "version": "3.11.5"
  }
 },
 "nbformat": 4,
 "nbformat_minor": 5
}
