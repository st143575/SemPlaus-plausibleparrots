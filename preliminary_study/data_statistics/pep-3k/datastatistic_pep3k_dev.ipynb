{
 "cells": [
  {
   "cell_type": "markdown",
   "id": "93e1f5bc",
   "metadata": {},
   "source": [
    "# Study the data statistics of the pep-3k dataset (dev).\n",
    "29.11.2023"
   ]
  },
  {
   "cell_type": "code",
   "execution_count": 1,
   "id": "08f2a3f8",
   "metadata": {},
   "outputs": [],
   "source": [
    "import os\n",
    "import json\n",
    "import numpy as np\n",
    "import pandas as pd\n",
    "import matplotlib.pyplot as plt\n",
    "from collections import Counter"
   ]
  },
  {
   "cell_type": "code",
   "execution_count": 2,
   "id": "958f374b",
   "metadata": {},
   "outputs": [],
   "source": [
    "# Please replace the following paths with your own paths if you are using different ones.\n",
    "PROJECT_PATH = \"<root_dir_of_this_repo>\"\n",
    "DATA_PATH = PROJECT_PATH + \"datasets/pep-3k/train-dev-test-split/\"\n",
    "CACHE_PATH = PROJECT_PATH + \"cache/\""
   ]
  },
  {
   "cell_type": "markdown",
   "id": "b1e94b83",
   "metadata": {},
   "source": [
    "## Dev"
   ]
  },
  {
   "cell_type": "code",
   "execution_count": 4,
   "id": "068a59f8",
   "metadata": {},
   "outputs": [
    {
     "data": {
      "text/html": [
       "<div>\n",
       "<style scoped>\n",
       "    .dataframe tbody tr th:only-of-type {\n",
       "        vertical-align: middle;\n",
       "    }\n",
       "\n",
       "    .dataframe tbody tr th {\n",
       "        vertical-align: top;\n",
       "    }\n",
       "\n",
       "    .dataframe thead th {\n",
       "        text-align: right;\n",
       "    }\n",
       "</style>\n",
       "<table border=\"1\" class=\"dataframe\">\n",
       "  <thead>\n",
       "    <tr style=\"text-align: right;\">\n",
       "      <th></th>\n",
       "      <th>label</th>\n",
       "      <th>text</th>\n",
       "    </tr>\n",
       "  </thead>\n",
       "  <tbody>\n",
       "    <tr>\n",
       "      <th>0</th>\n",
       "      <td>0</td>\n",
       "      <td>elephant vomit boat</td>\n",
       "    </tr>\n",
       "    <tr>\n",
       "      <th>1</th>\n",
       "      <td>1</td>\n",
       "      <td>tape attach sticker</td>\n",
       "    </tr>\n",
       "    <tr>\n",
       "      <th>2</th>\n",
       "      <td>1</td>\n",
       "      <td>knife dig bike</td>\n",
       "    </tr>\n",
       "    <tr>\n",
       "      <th>3</th>\n",
       "      <td>1</td>\n",
       "      <td>girl cut grape</td>\n",
       "    </tr>\n",
       "    <tr>\n",
       "      <th>4</th>\n",
       "      <td>1</td>\n",
       "      <td>policeman halt ball</td>\n",
       "    </tr>\n",
       "    <tr>\n",
       "      <th>...</th>\n",
       "      <td>...</td>\n",
       "      <td>...</td>\n",
       "    </tr>\n",
       "    <tr>\n",
       "      <th>301</th>\n",
       "      <td>0</td>\n",
       "      <td>girl slide water</td>\n",
       "    </tr>\n",
       "    <tr>\n",
       "      <th>302</th>\n",
       "      <td>0</td>\n",
       "      <td>plant bury air</td>\n",
       "    </tr>\n",
       "    <tr>\n",
       "      <th>303</th>\n",
       "      <td>0</td>\n",
       "      <td>hand roll plane</td>\n",
       "    </tr>\n",
       "    <tr>\n",
       "      <th>304</th>\n",
       "      <td>1</td>\n",
       "      <td>cup spill water</td>\n",
       "    </tr>\n",
       "    <tr>\n",
       "      <th>305</th>\n",
       "      <td>1</td>\n",
       "      <td>scissors tear paper</td>\n",
       "    </tr>\n",
       "  </tbody>\n",
       "</table>\n",
       "<p>306 rows × 2 columns</p>\n",
       "</div>"
      ],
      "text/plain": [
       "     label                 text\n",
       "0        0  elephant vomit boat\n",
       "1        1  tape attach sticker\n",
       "2        1       knife dig bike\n",
       "3        1       girl cut grape\n",
       "4        1  policeman halt ball\n",
       "..     ...                  ...\n",
       "301      0     girl slide water\n",
       "302      0       plant bury air\n",
       "303      0      hand roll plane\n",
       "304      1      cup spill water\n",
       "305      1  scissors tear paper\n",
       "\n",
       "[306 rows x 2 columns]"
      ]
     },
     "execution_count": 4,
     "metadata": {},
     "output_type": "execute_result"
    }
   ],
   "source": [
    "dev_set_df = pd.read_csv(DATA_PATH + \"dev.csv\", sep=',')\n",
    "dev_set_df"
   ]
  },
  {
   "cell_type": "markdown",
   "id": "11683c14",
   "metadata": {},
   "source": [
    "### Check texts"
   ]
  },
  {
   "cell_type": "code",
   "execution_count": 5,
   "id": "0da137d0",
   "metadata": {},
   "outputs": [
    {
     "name": "stdout",
     "output_type": "stream",
     "text": [
      "306\n",
      "306\n"
     ]
    }
   ],
   "source": [
    "texts = dev_set_df['text'].tolist()\n",
    "print(len(texts))\n",
    "texts_set = list(set(texts))\n",
    "print(len(texts_set))"
   ]
  },
  {
   "cell_type": "code",
   "execution_count": 6,
   "id": "06ec6819",
   "metadata": {},
   "outputs": [
    {
     "name": "stdout",
     "output_type": "stream",
     "text": [
      "918\n",
      "330\n"
     ]
    }
   ],
   "source": [
    "# Get vocabulary from texts.\n",
    "\n",
    "from itertools import chain\n",
    "words = [text.split(\" \") for text in texts]\n",
    "words = list(chain(*words))\n",
    "print(len(words))\n",
    "\n",
    "vocab = list(set(words))\n",
    "print(len(vocab))"
   ]
  },
  {
   "cell_type": "markdown",
   "id": "cb0be379",
   "metadata": {},
   "source": [
    "### Check labels"
   ]
  },
  {
   "cell_type": "code",
   "execution_count": 7,
   "id": "cb98b0cd",
   "metadata": {},
   "outputs": [
    {
     "name": "stdout",
     "output_type": "stream",
     "text": [
      "306\n",
      "2\n"
     ]
    },
    {
     "data": {
      "text/plain": [
       "[0, 1]"
      ]
     },
     "execution_count": 7,
     "metadata": {},
     "output_type": "execute_result"
    }
   ],
   "source": [
    "labels = dev_set_df['label'].tolist()\n",
    "print(len(labels))\n",
    "labels_set = list(set(labels))\n",
    "print(len(labels_set))\n",
    "labels_set"
   ]
  },
  {
   "cell_type": "code",
   "execution_count": 8,
   "id": "fc60fe92",
   "metadata": {},
   "outputs": [
    {
     "data": {
      "text/plain": [
       "{0: 153, 1: 153}"
      ]
     },
     "execution_count": 8,
     "metadata": {},
     "output_type": "execute_result"
    }
   ],
   "source": [
    "label_counter = dict(Counter(labels))\n",
    "\n",
    "# Sort the data in descending order.\n",
    "label_counter = {k: v for k, v in sorted(label_counter.items(), key=lambda item: item[1], reverse=True)}\n",
    "label_counter"
   ]
  },
  {
   "cell_type": "code",
   "execution_count": 9,
   "id": "7a01f511",
   "metadata": {},
   "outputs": [
    {
     "data": {
      "image/png": "[encoded data removed]",
      "text/plain": [
       "<Figure size 640x480 with 1 Axes>"
      ]
     },
     "metadata": {},
     "output_type": "display_data"
    }
   ],
   "source": [
    "# Create a bar diagram\n",
    "plt.bar(label_counter.keys(), label_counter.values())\n",
    "\n",
    "# Add title and labels\n",
    "plt.title('Label distribution')\n",
    "plt.xlabel('label')\n",
    "plt.ylabel('number of instances')\n",
    "\n",
    "# Show the value on top of each bar\n",
    "for key, value in label_counter.items():\n",
    "    plt.text(key, value, f'{value}', ha='center', va='bottom')\n",
    "\n",
    "# Display the plot\n",
    "plt.show()"
   ]
  },
  {
   "cell_type": "code",
   "execution_count": null,
   "id": "b323af9c",
   "metadata": {},
   "outputs": [],
   "source": []
  }
 ],
 "metadata": {
  "kernelspec": {
   "display_name": "Python 3 (ipykernel)",
   "language": "python",
   "name": "python3"
  },
  "language_info": {
   "codemirror_mode": {
    "name": "ipython",
    "version": 3
   },
   "file_extension": ".py",
   "mimetype": "text/x-python",
   "name": "python",
   "nbconvert_exporter": "python",
   "pygments_lexer": "ipython3",
   "version": "3.11.5"
  }
 },
 "nbformat": 4,
 "nbformat_minor": 5
}
